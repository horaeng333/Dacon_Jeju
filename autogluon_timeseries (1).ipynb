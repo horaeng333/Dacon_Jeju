{
  "nbformat": 4,
  "nbformat_minor": 0,
  "metadata": {
    "colab": {
      "private_outputs": true,
      "provenance": []
    },
    "kernelspec": {
      "name": "python3",
      "display_name": "Python 3"
    },
    "language_info": {
      "name": "python"
    }
  },
  "cells": [
    {
      "cell_type": "code",
      "source": [
        "from google.colab import drive\n",
        "drive.mount('/content/drive')"
      ],
      "metadata": {
        "id": "WHzCwU8ov7Lw"
      },
      "execution_count": null,
      "outputs": []
    },
    {
      "cell_type": "code",
      "execution_count": null,
      "metadata": {
        "id": "2-skTvVduhIs"
      },
      "outputs": [],
      "source": [
        "!pip install autogluon"
      ]
    },
    {
      "cell_type": "code",
      "source": [
        "import pandas as pd\n",
        "import numpy as np\n",
        "from autogluon.timeseries import TimeSeriesDataFrame, TimeSeriesPredictor\n",
        "\n",
        "# Load the data\n",
        "train_df = pd.read_csv('/content/drive/MyDrive/데이콘/open/train.csv')[['ID', 'timestamp', 'supply(kg)', 'price(원/kg)']]\n",
        "train_df['timestamp'] = pd.to_datetime(train_df['timestamp'])\n",
        "\n",
        "# Function to determine the season\n",
        "def get_season(month):\n",
        "    if month in [3, 4, 5]:\n",
        "        return 'Spring'\n",
        "    elif month in [6, 7, 8]:\n",
        "        return 'Summer'\n",
        "    elif month in [9, 10, 11]:\n",
        "        return 'Fall'\n",
        "    else:\n",
        "        return 'Winter'\n",
        "\n",
        "# Extracting day of week and season\n",
        "train_df['day_of_week'] = train_df['timestamp'].dt.dayofweek\n",
        "train_df['season'] = train_df['timestamp'].dt.month.apply(get_season)\n",
        "def map_season_to_number(season):\n",
        "    mapping = {'Winter': 0, 'Spring': 1, 'Summer': 2, 'Fall': 3}\n",
        "    return mapping.get(season, -1)  # 기본값으로 -1을 사용\n",
        "\n",
        "# 계절 열을 숫자로 변환\n",
        "train_df['season'] = train_df['season'].apply(map_season_to_number)\n",
        "\n",
        "# Preparing the dataset for AutoGluon\n",
        "train_df['item_id'] = train_df.ID.str[0:6]\n",
        "data = TimeSeriesDataFrame(train_df.drop(columns=['ID']))\n",
        "\n",
        "# Creating and training the predictor\n",
        "predictor = TimeSeriesPredictor(\n",
        "    prediction_length=28,\n",
        "    target=\"price(원/kg)\",\n",
        "    eval_metric=\"RMSE\",\n",
        ")\n",
        "\n",
        "# Fit the model\n",
        "predictor.fit(data, random_seed=42)\n",
        "\n",
        "# Prediction\n",
        "# ..."
      ],
      "metadata": {
        "id": "JnUcSBp0wIWU"
      },
      "execution_count": null,
      "outputs": []
    },
    {
      "cell_type": "code",
      "source": [
        "# seed 고정\n",
        "pred = predictor.predict(data, random_seed=42, )"
      ],
      "metadata": {
        "id": "AbEA6Mbi9rp2"
      },
      "execution_count": null,
      "outputs": []
    },
    {
      "cell_type": "code",
      "source": [
        "# Prediction\n",
        "submission = pd.read_csv('/content/drive/MyDrive/데이콘/open/sample_submission.csv')\n",
        "pred = predictor.predict(data)  # Make sure to pass the correct dataset here\n",
        "submission['answer'] = pred.reset_index()['mean']\n",
        "submission.loc[submission['answer'] < 0.0, 'answer'] = 0.0\n",
        "submission.to_csv('./dacon_submission.csv', index=False)\n",
        "submission"
      ],
      "metadata": {
        "id": "36A0l8dhxauE"
      },
      "execution_count": null,
      "outputs": []
    }
  ]
}